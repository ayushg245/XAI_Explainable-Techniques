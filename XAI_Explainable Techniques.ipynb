{
 "cells": [
  {
   "cell_type": "markdown",
   "metadata": {},
   "source": [
    "# AIPI 590 - XAI | Assignment #02\n",
    "### Explainable Techniques I\n",
    "### Ayush Gupta\n",
    "\n",
    "\n",
    "[![Open In Collab](https://colab.research.google.com/assets/colab-badge.svg)](https://colab.research.google.com/drive/1AlU-PAVm7xhXCEC-ueCdlBsqqy30iGKH#scrollTo=wsqo5TSS45Up)"
   ]
  },
  {
   "cell_type": "markdown",
   "metadata": {},
   "source": [
    "## **Environment Setup**\n",
    "\n",
    "### **Instructions for Running on Google Colab**\n",
    "\n",
    "1. **Open Google Colab:**\n",
    "   - Go to [Google Colab](https://colab.research.google.com/)\n",
    "\n",
    "2. **Clone the GitHub Repository:**\n",
    "   - In a new code cell, run the following:\n",
    "     ```python\n",
    "     !git clone https://github.com/ayushg245/XAI_Explainable-Techniques.git\n",
    "     %cd XAI_Explainable-Techniques\n",
    "     ```\n",
    "\n",
    "3. **Install Required Dependencies:**\n",
    "   - Ensure that all required libraries are installed:\n",
    "     ```python\n",
    "     !pip install -r requirements.txt\n",
    "     ```\n",
    "\n",
    "4. **Open the Notebook:**\n",
    "   - Locate and open the file `XAI_Explainable Techniques.ipynb` in Google Colab.\n",
    "\n",
    "5. **Run All Cells:**\n",
    "   - Run each code cell sequentially or select **Runtime > Run All**.\n",
    "\n",
    "---\n"
   ]
  },
  {
   "cell_type": "code",
   "execution_count": null,
   "metadata": {},
   "outputs": [],
   "source": []
  }
 ],
 "metadata": {
  "kernelspec": {
   "display_name": "Python 3",
   "language": "python",
   "name": "python3"
  },
  "language_info": {
   "codemirror_mode": {
    "name": "ipython",
    "version": 3
   },
   "file_extension": ".py",
   "mimetype": "text/x-python",
   "name": "python",
   "nbconvert_exporter": "python",
   "pygments_lexer": "ipython3",
   "version": "3.12.8"
  }
 },
 "nbformat": 4,
 "nbformat_minor": 2
}
